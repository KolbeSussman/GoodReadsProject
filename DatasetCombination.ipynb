{
 "cells": [
  {
   "cell_type": "code",
   "execution_count": 21,
   "id": "010a63f9-9c44-4d00-8a20-7ed0417ac7dd",
   "metadata": {
    "scrolled": true
   },
   "outputs": [],
   "source": [
    "import pandas as pd\n",
    "import numpy as np\n",
    "import os\n",
    "from scipy import stats\n"
   ]
  },
  {
   "cell_type": "code",
   "execution_count": 31,
   "id": "3230d72f-c14c-4a4a-875c-ced4b116967b",
   "metadata": {},
   "outputs": [],
   "source": [
    "books = pd.read_csv(\"/Users/kolbesussman/Desktop/Current/GoodReads Project/assets/book1-100k.csv\")\n",
    "\n",
    "#for the purposes of this project I am only going to look at books in english \n",
    "    #this makes it easier on my computer to process and my brain to comprehend\n",
    "books = books[(books['Language'] == 'eng') | \n",
    "              (books['Language'] == 'en-US') | \n",
    "              (books['Language'] == 'en-CA') | \n",
    "              (books['Language'] == 'en-GB')]\n",
    "\n",
    "def try_split(x):\n",
    "    try:\n",
    "        i = x.split(\":\")[1]\n",
    "        return(i)\n",
    "    except:\n",
    "        return None\n",
    "\n",
    "def try_int(x):\n",
    "    try:\n",
    "        i = int(x)\n",
    "        return(i)\n",
    "    except:\n",
    "        return None\n",
    "        \n",
    "def fix_ratings(df):\n",
    "    for i in range(1,6):\n",
    "        col = \"RatingDist\"+str(i)\n",
    "        #print(col)\n",
    "        df[col] = df[col].apply(lambda x: try_split(x))\n",
    "        df[col] = df[col].apply(lambda x: try_int(x))\n",
    "        \n",
    "fix_ratings(books)"
   ]
  },
  {
   "cell_type": "code",
   "execution_count": 32,
   "id": "a91d1099-793b-4d86-aa34-765544a13fe4",
   "metadata": {},
   "outputs": [
    {
     "name": "stdout",
     "output_type": "stream",
     "text": [
      "loading in file number 0 of 22 (book1900k-2000k.csv)\n",
      "current list thength:  22947\n",
      "loading in file number 1 of 22 (book1600k-1700k.csv)\n",
      "current list thength:  26500\n",
      "loading in file number 2 of 22 (book700k-800k.csv)\n",
      "current list thength:  33995\n",
      "loading in file number 3 of 22 (book600k-700k.csv)\n",
      "current list thength:  42364\n",
      "loading in file number 4 of 22 (book1000k-1100k.csv)\n",
      "current list thength:  48534\n",
      "loading in file number 5 of 22 (book100k-200k.csv)\n",
      "current list thength:  61575\n",
      "loading in file number 6 of 22 (book1300k-1400k.csv)\n",
      "current list thength:  66395\n",
      "loading in file number 7 of 22 (book1500k-1600k.csv)\n",
      "current list thength:  70488\n",
      "loading in file number 8 of 22 (book1200k-1300k.csv)\n",
      "current list thength:  76145\n",
      "loading in file number 9 of 22 (book800k-900k.csv)\n",
      "current list thength:  84920\n",
      "loading in file number 10 of 22 (book2000k-3000k.csv)\n",
      "current list thength:  116642\n",
      "loading in file number 11 of 22 (book400k-500k.csv)\n",
      "current list thength:  125297\n",
      "loading in file number 12 of 22 (book1700k-1800k.csv)\n",
      "current list thength:  128962\n",
      "loading in file number 13 of 22 (book1800k-1900k.csv)\n",
      "current list thength:  133001\n",
      "loading in file number 14 of 22 (book200k-300k.csv)\n",
      "current list thength:  144527\n",
      "loading in file number 15 of 22 (book500k-600k.csv)\n",
      "current list thength:  153396\n",
      "loading in file number 16 of 22 (book300k-400k.csv)\n",
      "current list thength:  163726\n",
      "loading in file number 17 of 22 (book900k-1000k.csv)\n",
      "current list thength:  170875\n",
      "loading in file number 18 of 22 (book1100k-1200k.csv)\n",
      "current list thength:  177126\n",
      "loading in file number 19 of 22 (book3000k-4000k.csv)\n",
      "current list thength:  194035\n",
      "loading in file number 20 of 22 (book4000k-5000k.csv)\n",
      "current list thength:  205161\n",
      "loading in file number 21 of 22 (book1400k-1500k.csv)\n",
      "current list thength:  209672\n",
      "done!\n"
     ]
    }
   ],
   "source": [
    "lst = []\n",
    "for subdir, dirs, files in os.walk('./'):\n",
    "    for file in files:\n",
    "        if file.startswith(\"book\"):\n",
    "            lst.append(file)\n",
    "lst.remove(\"book1-100k.csv\")\n",
    "\n",
    "\n",
    "for file in lst:\n",
    "    file_num = lst.index(file)\n",
    "    print(\"loading in file number {} of {} ({})\".format(file_num, len(lst), file))\n",
    "    path = \"/Users/kolbesussman/Desktop/Current/GoodReads Project/assets/\" + file\n",
    "    df = pd.read_csv(path)\n",
    "    df = df[(df['Language'] == 'eng') | \n",
    "              (df['Language'] == 'en-US') | \n",
    "              (df['Language'] == 'en-CA') | \n",
    "              (df['Language'] == 'en-GB')]\n",
    "    #print(\"adding {} books\".format(len(df)))\n",
    "    fix_ratings(df)\n",
    "    books = pd.concat([books, df],ignore_index=True)\n",
    "    print(\"current list thength: \", len(books))\n",
    "print(\"done!\")\n"
   ]
  },
  {
   "cell_type": "code",
   "execution_count": 33,
   "id": "3b94773a-507a-40b5-80af-0bedf7b6b8a5",
   "metadata": {},
   "outputs": [],
   "source": [
    "books['RatingDistTotal'] = books['RatingDistTotal'].apply(lambda x: x.split(\":\")[1])\n",
    "books['RatingDistTotal'] = books['RatingDistTotal'].apply(lambda x: int(x))"
   ]
  },
  {
   "cell_type": "code",
   "execution_count": 34,
   "id": "d11d477e-0315-46fa-91c6-e659bb1d7a53",
   "metadata": {},
   "outputs": [
    {
     "data": {
      "text/plain": [
       "209672"
      ]
     },
     "execution_count": 34,
     "metadata": {},
     "output_type": "execute_result"
    }
   ],
   "source": [
    "len(books)"
   ]
  },
  {
   "cell_type": "code",
   "execution_count": 35,
   "id": "33f06b8c-47d7-48a4-8bdf-7573c9056b12",
   "metadata": {},
   "outputs": [],
   "source": [
    "#the file is waayyyy to big so I am limiting to only books that are more than 50 pages\n",
    "books = books[books['pagesNumber'] > 50]"
   ]
  },
  {
   "cell_type": "code",
   "execution_count": 36,
   "id": "9a79160d-0487-420c-969d-8b378c04d834",
   "metadata": {},
   "outputs": [
    {
     "data": {
      "text/plain": [
       "130907"
      ]
     },
     "execution_count": 36,
     "metadata": {},
     "output_type": "execute_result"
    }
   ],
   "source": [
    "len(books)"
   ]
  },
  {
   "cell_type": "code",
   "execution_count": null,
   "id": "fff71720-363f-4418-8b85-070f2259f1d7",
   "metadata": {},
   "outputs": [],
   "source": [
    "len(books[books['RatingDistTotal'] < "
   ]
  },
  {
   "cell_type": "code",
   "execution_count": 41,
   "id": "4859b02c-9fd2-463f-a9d7-ec266f177929",
   "metadata": {},
   "outputs": [
    {
     "name": "stdout",
     "output_type": "stream",
     "text": [
      "count    1.309070e+05\n",
      "mean     1.620141e+04\n",
      "std      1.342286e+05\n",
      "min      0.000000e+00\n",
      "25%      4.400000e+01\n",
      "50%      2.950000e+02\n",
      "75%      2.216000e+03\n",
      "max      6.788211e+06\n",
      "Name: RatingDistTotal, dtype: float64\n"
     ]
    }
   ],
   "source": [
    "#the file is still going to be too big, so I am also limiting to books that have more than a certain number of reviews\n",
    "\n",
    "descp = books.describe()\n",
    "print(descp['RatingDistTotal'])\n",
    "\n",
    "#remove books under 25%\n",
    "limit = descp['RatingDistTotal']['25%']\n",
    "books = books[books['RatingDistTotal'] > limit]"
   ]
  },
  {
   "cell_type": "code",
   "execution_count": 42,
   "id": "1074abf0-de8b-475e-908a-bed8ef487577",
   "metadata": {},
   "outputs": [
    {
     "data": {
      "text/plain": [
       "98095"
      ]
     },
     "execution_count": 42,
     "metadata": {},
     "output_type": "execute_result"
    }
   ],
   "source": [
    "len(books)"
   ]
  },
  {
   "cell_type": "code",
   "execution_count": 43,
   "id": "8c961161-f157-472b-a5cd-fabaa0931eb0",
   "metadata": {},
   "outputs": [],
   "source": [
    "books.to_csv('eng-books.csv')"
   ]
  },
  {
   "cell_type": "code",
   "execution_count": null,
   "id": "ded43368-4a11-43e3-9396-dd60865f65f9",
   "metadata": {},
   "outputs": [],
   "source": []
  }
 ],
 "metadata": {
  "kernelspec": {
   "display_name": "Python 3 (ipykernel)",
   "language": "python",
   "name": "python3"
  },
  "language_info": {
   "codemirror_mode": {
    "name": "ipython",
    "version": 3
   },
   "file_extension": ".py",
   "mimetype": "text/x-python",
   "name": "python",
   "nbconvert_exporter": "python",
   "pygments_lexer": "ipython3",
   "version": "3.11.7"
  }
 },
 "nbformat": 4,
 "nbformat_minor": 5
}
